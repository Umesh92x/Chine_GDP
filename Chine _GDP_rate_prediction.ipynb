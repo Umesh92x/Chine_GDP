{
 "cells": [
  {
   "cell_type": "code",
   "execution_count": 1,
   "metadata": {},
   "outputs": [],
   "source": [
    "import matplotlib.pyplot as plt\n",
    "import numpy as np\n",
    "import pandas as pd\n"
   ]
  },
  {
   "cell_type": "code",
   "execution_count": 2,
   "metadata": {},
   "outputs": [
    {
     "data": {
      "text/html": [
       "<div>\n",
       "<style scoped>\n",
       "    .dataframe tbody tr th:only-of-type {\n",
       "        vertical-align: middle;\n",
       "    }\n",
       "\n",
       "    .dataframe tbody tr th {\n",
       "        vertical-align: top;\n",
       "    }\n",
       "\n",
       "    .dataframe thead th {\n",
       "        text-align: right;\n",
       "    }\n",
       "</style>\n",
       "<table border=\"1\" class=\"dataframe\">\n",
       "  <thead>\n",
       "    <tr style=\"text-align: right;\">\n",
       "      <th></th>\n",
       "      <th>Year</th>\n",
       "      <th>Value</th>\n",
       "    </tr>\n",
       "  </thead>\n",
       "  <tbody>\n",
       "    <tr>\n",
       "      <th>0</th>\n",
       "      <td>1960</td>\n",
       "      <td>5.918412e+10</td>\n",
       "    </tr>\n",
       "    <tr>\n",
       "      <th>1</th>\n",
       "      <td>1961</td>\n",
       "      <td>4.955705e+10</td>\n",
       "    </tr>\n",
       "    <tr>\n",
       "      <th>2</th>\n",
       "      <td>1962</td>\n",
       "      <td>4.668518e+10</td>\n",
       "    </tr>\n",
       "    <tr>\n",
       "      <th>3</th>\n",
       "      <td>1963</td>\n",
       "      <td>5.009730e+10</td>\n",
       "    </tr>\n",
       "    <tr>\n",
       "      <th>4</th>\n",
       "      <td>1964</td>\n",
       "      <td>5.906225e+10</td>\n",
       "    </tr>\n",
       "    <tr>\n",
       "      <th>5</th>\n",
       "      <td>1965</td>\n",
       "      <td>6.970915e+10</td>\n",
       "    </tr>\n",
       "    <tr>\n",
       "      <th>6</th>\n",
       "      <td>1966</td>\n",
       "      <td>7.587943e+10</td>\n",
       "    </tr>\n",
       "    <tr>\n",
       "      <th>7</th>\n",
       "      <td>1967</td>\n",
       "      <td>7.205703e+10</td>\n",
       "    </tr>\n",
       "    <tr>\n",
       "      <th>8</th>\n",
       "      <td>1968</td>\n",
       "      <td>6.999350e+10</td>\n",
       "    </tr>\n",
       "    <tr>\n",
       "      <th>9</th>\n",
       "      <td>1969</td>\n",
       "      <td>7.871882e+10</td>\n",
       "    </tr>\n",
       "    <tr>\n",
       "      <th>10</th>\n",
       "      <td>1970</td>\n",
       "      <td>9.150621e+10</td>\n",
       "    </tr>\n",
       "    <tr>\n",
       "      <th>11</th>\n",
       "      <td>1971</td>\n",
       "      <td>9.856202e+10</td>\n",
       "    </tr>\n",
       "    <tr>\n",
       "      <th>12</th>\n",
       "      <td>1972</td>\n",
       "      <td>1.121598e+11</td>\n",
       "    </tr>\n",
       "    <tr>\n",
       "      <th>13</th>\n",
       "      <td>1973</td>\n",
       "      <td>1.367699e+11</td>\n",
       "    </tr>\n",
       "    <tr>\n",
       "      <th>14</th>\n",
       "      <td>1974</td>\n",
       "      <td>1.422547e+11</td>\n",
       "    </tr>\n",
       "    <tr>\n",
       "      <th>15</th>\n",
       "      <td>1975</td>\n",
       "      <td>1.611625e+11</td>\n",
       "    </tr>\n",
       "    <tr>\n",
       "      <th>16</th>\n",
       "      <td>1976</td>\n",
       "      <td>1.516277e+11</td>\n",
       "    </tr>\n",
       "    <tr>\n",
       "      <th>17</th>\n",
       "      <td>1977</td>\n",
       "      <td>1.723490e+11</td>\n",
       "    </tr>\n",
       "    <tr>\n",
       "      <th>18</th>\n",
       "      <td>1978</td>\n",
       "      <td>1.483821e+11</td>\n",
       "    </tr>\n",
       "    <tr>\n",
       "      <th>19</th>\n",
       "      <td>1979</td>\n",
       "      <td>1.768565e+11</td>\n",
       "    </tr>\n",
       "    <tr>\n",
       "      <th>20</th>\n",
       "      <td>1980</td>\n",
       "      <td>1.896500e+11</td>\n",
       "    </tr>\n",
       "    <tr>\n",
       "      <th>21</th>\n",
       "      <td>1981</td>\n",
       "      <td>1.943690e+11</td>\n",
       "    </tr>\n",
       "    <tr>\n",
       "      <th>22</th>\n",
       "      <td>1982</td>\n",
       "      <td>2.035496e+11</td>\n",
       "    </tr>\n",
       "    <tr>\n",
       "      <th>23</th>\n",
       "      <td>1983</td>\n",
       "      <td>2.289502e+11</td>\n",
       "    </tr>\n",
       "    <tr>\n",
       "      <th>24</th>\n",
       "      <td>1984</td>\n",
       "      <td>2.580821e+11</td>\n",
       "    </tr>\n",
       "    <tr>\n",
       "      <th>25</th>\n",
       "      <td>1985</td>\n",
       "      <td>3.074796e+11</td>\n",
       "    </tr>\n",
       "    <tr>\n",
       "      <th>26</th>\n",
       "      <td>1986</td>\n",
       "      <td>2.988058e+11</td>\n",
       "    </tr>\n",
       "    <tr>\n",
       "      <th>27</th>\n",
       "      <td>1987</td>\n",
       "      <td>2.713498e+11</td>\n",
       "    </tr>\n",
       "    <tr>\n",
       "      <th>28</th>\n",
       "      <td>1988</td>\n",
       "      <td>3.107222e+11</td>\n",
       "    </tr>\n",
       "    <tr>\n",
       "      <th>29</th>\n",
       "      <td>1989</td>\n",
       "      <td>3.459575e+11</td>\n",
       "    </tr>\n",
       "    <tr>\n",
       "      <th>30</th>\n",
       "      <td>1990</td>\n",
       "      <td>3.589732e+11</td>\n",
       "    </tr>\n",
       "    <tr>\n",
       "      <th>31</th>\n",
       "      <td>1991</td>\n",
       "      <td>3.814547e+11</td>\n",
       "    </tr>\n",
       "    <tr>\n",
       "      <th>32</th>\n",
       "      <td>1992</td>\n",
       "      <td>4.249341e+11</td>\n",
       "    </tr>\n",
       "    <tr>\n",
       "      <th>33</th>\n",
       "      <td>1993</td>\n",
       "      <td>4.428746e+11</td>\n",
       "    </tr>\n",
       "    <tr>\n",
       "      <th>34</th>\n",
       "      <td>1994</td>\n",
       "      <td>5.622611e+11</td>\n",
       "    </tr>\n",
       "    <tr>\n",
       "      <th>35</th>\n",
       "      <td>1995</td>\n",
       "      <td>7.320320e+11</td>\n",
       "    </tr>\n",
       "    <tr>\n",
       "      <th>36</th>\n",
       "      <td>1996</td>\n",
       "      <td>8.608441e+11</td>\n",
       "    </tr>\n",
       "    <tr>\n",
       "      <th>37</th>\n",
       "      <td>1997</td>\n",
       "      <td>9.581594e+11</td>\n",
       "    </tr>\n",
       "    <tr>\n",
       "      <th>38</th>\n",
       "      <td>1998</td>\n",
       "      <td>1.025277e+12</td>\n",
       "    </tr>\n",
       "    <tr>\n",
       "      <th>39</th>\n",
       "      <td>1999</td>\n",
       "      <td>1.089447e+12</td>\n",
       "    </tr>\n",
       "    <tr>\n",
       "      <th>40</th>\n",
       "      <td>2000</td>\n",
       "      <td>1.205261e+12</td>\n",
       "    </tr>\n",
       "    <tr>\n",
       "      <th>41</th>\n",
       "      <td>2001</td>\n",
       "      <td>1.332235e+12</td>\n",
       "    </tr>\n",
       "    <tr>\n",
       "      <th>42</th>\n",
       "      <td>2002</td>\n",
       "      <td>1.461906e+12</td>\n",
       "    </tr>\n",
       "    <tr>\n",
       "      <th>43</th>\n",
       "      <td>2003</td>\n",
       "      <td>1.649929e+12</td>\n",
       "    </tr>\n",
       "    <tr>\n",
       "      <th>44</th>\n",
       "      <td>2004</td>\n",
       "      <td>1.941746e+12</td>\n",
       "    </tr>\n",
       "    <tr>\n",
       "      <th>45</th>\n",
       "      <td>2005</td>\n",
       "      <td>2.268599e+12</td>\n",
       "    </tr>\n",
       "    <tr>\n",
       "      <th>46</th>\n",
       "      <td>2006</td>\n",
       "      <td>2.729784e+12</td>\n",
       "    </tr>\n",
       "    <tr>\n",
       "      <th>47</th>\n",
       "      <td>2007</td>\n",
       "      <td>3.523094e+12</td>\n",
       "    </tr>\n",
       "    <tr>\n",
       "      <th>48</th>\n",
       "      <td>2008</td>\n",
       "      <td>4.558431e+12</td>\n",
       "    </tr>\n",
       "    <tr>\n",
       "      <th>49</th>\n",
       "      <td>2009</td>\n",
       "      <td>5.059420e+12</td>\n",
       "    </tr>\n",
       "    <tr>\n",
       "      <th>50</th>\n",
       "      <td>2010</td>\n",
       "      <td>6.039659e+12</td>\n",
       "    </tr>\n",
       "    <tr>\n",
       "      <th>51</th>\n",
       "      <td>2011</td>\n",
       "      <td>7.492432e+12</td>\n",
       "    </tr>\n",
       "    <tr>\n",
       "      <th>52</th>\n",
       "      <td>2012</td>\n",
       "      <td>8.461623e+12</td>\n",
       "    </tr>\n",
       "    <tr>\n",
       "      <th>53</th>\n",
       "      <td>2013</td>\n",
       "      <td>9.490603e+12</td>\n",
       "    </tr>\n",
       "    <tr>\n",
       "      <th>54</th>\n",
       "      <td>2014</td>\n",
       "      <td>1.035483e+13</td>\n",
       "    </tr>\n",
       "  </tbody>\n",
       "</table>\n",
       "</div>"
      ],
      "text/plain": [
       "    Year         Value\n",
       "0   1960  5.918412e+10\n",
       "1   1961  4.955705e+10\n",
       "2   1962  4.668518e+10\n",
       "3   1963  5.009730e+10\n",
       "4   1964  5.906225e+10\n",
       "5   1965  6.970915e+10\n",
       "6   1966  7.587943e+10\n",
       "7   1967  7.205703e+10\n",
       "8   1968  6.999350e+10\n",
       "9   1969  7.871882e+10\n",
       "10  1970  9.150621e+10\n",
       "11  1971  9.856202e+10\n",
       "12  1972  1.121598e+11\n",
       "13  1973  1.367699e+11\n",
       "14  1974  1.422547e+11\n",
       "15  1975  1.611625e+11\n",
       "16  1976  1.516277e+11\n",
       "17  1977  1.723490e+11\n",
       "18  1978  1.483821e+11\n",
       "19  1979  1.768565e+11\n",
       "20  1980  1.896500e+11\n",
       "21  1981  1.943690e+11\n",
       "22  1982  2.035496e+11\n",
       "23  1983  2.289502e+11\n",
       "24  1984  2.580821e+11\n",
       "25  1985  3.074796e+11\n",
       "26  1986  2.988058e+11\n",
       "27  1987  2.713498e+11\n",
       "28  1988  3.107222e+11\n",
       "29  1989  3.459575e+11\n",
       "30  1990  3.589732e+11\n",
       "31  1991  3.814547e+11\n",
       "32  1992  4.249341e+11\n",
       "33  1993  4.428746e+11\n",
       "34  1994  5.622611e+11\n",
       "35  1995  7.320320e+11\n",
       "36  1996  8.608441e+11\n",
       "37  1997  9.581594e+11\n",
       "38  1998  1.025277e+12\n",
       "39  1999  1.089447e+12\n",
       "40  2000  1.205261e+12\n",
       "41  2001  1.332235e+12\n",
       "42  2002  1.461906e+12\n",
       "43  2003  1.649929e+12\n",
       "44  2004  1.941746e+12\n",
       "45  2005  2.268599e+12\n",
       "46  2006  2.729784e+12\n",
       "47  2007  3.523094e+12\n",
       "48  2008  4.558431e+12\n",
       "49  2009  5.059420e+12\n",
       "50  2010  6.039659e+12\n",
       "51  2011  7.492432e+12\n",
       "52  2012  8.461623e+12\n",
       "53  2013  9.490603e+12\n",
       "54  2014  1.035483e+13"
      ]
     },
     "execution_count": 2,
     "metadata": {},
     "output_type": "execute_result"
    }
   ],
   "source": [
    "df=pd.read_csv('china_gdp.csv')\n",
    "df"
   ]
  },
  {
   "cell_type": "code",
   "execution_count": 3,
   "metadata": {},
   "outputs": [
    {
     "data": {
      "text/html": [
       "<div>\n",
       "<style scoped>\n",
       "    .dataframe tbody tr th:only-of-type {\n",
       "        vertical-align: middle;\n",
       "    }\n",
       "\n",
       "    .dataframe tbody tr th {\n",
       "        vertical-align: top;\n",
       "    }\n",
       "\n",
       "    .dataframe thead th {\n",
       "        text-align: right;\n",
       "    }\n",
       "</style>\n",
       "<table border=\"1\" class=\"dataframe\">\n",
       "  <thead>\n",
       "    <tr style=\"text-align: right;\">\n",
       "      <th></th>\n",
       "      <th>Year</th>\n",
       "      <th>Value</th>\n",
       "    </tr>\n",
       "  </thead>\n",
       "  <tbody>\n",
       "    <tr>\n",
       "      <th>0</th>\n",
       "      <td>1960</td>\n",
       "      <td>5.918412e+10</td>\n",
       "    </tr>\n",
       "    <tr>\n",
       "      <th>1</th>\n",
       "      <td>1961</td>\n",
       "      <td>4.955705e+10</td>\n",
       "    </tr>\n",
       "    <tr>\n",
       "      <th>2</th>\n",
       "      <td>1962</td>\n",
       "      <td>4.668518e+10</td>\n",
       "    </tr>\n",
       "    <tr>\n",
       "      <th>3</th>\n",
       "      <td>1963</td>\n",
       "      <td>5.009730e+10</td>\n",
       "    </tr>\n",
       "    <tr>\n",
       "      <th>4</th>\n",
       "      <td>1964</td>\n",
       "      <td>5.906225e+10</td>\n",
       "    </tr>\n",
       "  </tbody>\n",
       "</table>\n",
       "</div>"
      ],
      "text/plain": [
       "   Year         Value\n",
       "0  1960  5.918412e+10\n",
       "1  1961  4.955705e+10\n",
       "2  1962  4.668518e+10\n",
       "3  1963  5.009730e+10\n",
       "4  1964  5.906225e+10"
      ]
     },
     "execution_count": 3,
     "metadata": {},
     "output_type": "execute_result"
    }
   ],
   "source": [
    "df.head()"
   ]
  },
  {
   "cell_type": "code",
   "execution_count": 4,
   "metadata": {},
   "outputs": [
    {
     "data": {
      "image/png": "[encoded data removed]",
      "text/plain": [
       "<Figure size 432x288 with 1 Axes>"
      ]
     },
     "metadata": {},
     "output_type": "display_data"
    }
   ],
   "source": [
    "# this contain only two values ..\n",
    "# We will analyze it using non linear regression ..\n",
    "# lets take an mathematical example\n",
    "x = np.arange(-8.0, 8.0, 0.1)\n",
    "\n",
    "##You can adjust the slope and intercept to verify the changes in the graph\n",
    "y = 1*(x**3) + 1*(x**2) + 1*x + 3\n",
    "y_noise = 40 * np.random.normal(size=x.size)\n",
    "ydata = y + y_noise\n",
    "plt.plot(x, ydata,  'bo')\n",
    "plt.plot(x,y, 'r') \n",
    "plt.ylabel('Dependent Variable')\n",
    "plt.xlabel('Indepdendent Variable')\n",
    "plt.show()"
   ]
  },
  {
   "cell_type": "code",
   "execution_count": 5,
   "metadata": {},
   "outputs": [
    {
     "data": {
      "text/plain": [
       "Text(0,0.5,'dependent')"
      ]
     },
     "execution_count": 5,
     "metadata": {},
     "output_type": "execute_result"
    },
    {
     "data": {
      "image/png": "[encoded data removed]",
      "text/plain": [
       "<Figure size 432x288 with 1 Axes>"
      ]
     },
     "metadata": {},
     "output_type": "display_data"
    }
   ],
   "source": [
    "# now We will try to plot \n",
    "#Y=square of X\n",
    "x=np.arange(-8,8,0.1)\n",
    "y=np.power(x,2)\n",
    "y_noise=15*np.random.normal(size=x.size)\n",
    "y_new=y+y_noise\n",
    "plt.plot(x,y_new,'bo')\n",
    "\n",
    "plt.plot(x,y,'r')\n",
    "plt.xlabel('independent')\n",
    "plt.ylabel('dependent')\n"
   ]
  },
  {
   "cell_type": "code",
   "execution_count": 10,
   "metadata": {},
   "outputs": [
    {
     "data": {
      "image/png": "[encoded data removed]",
      "text/plain": [
       "<Figure size 432x288 with 1 Axes>"
      ]
     },
     "metadata": {},
     "output_type": "display_data"
    }
   ],
   "source": [
    "# now we will plot our main function...\n",
    "# That is 'logistic'\n",
    "x=np.arange(-8.0,8.0,0.1)\n",
    "y= 1-4/(1+np.power(3,x-2))\n",
    "plt.plot(x,y,'b')\n",
    "plt.xlabel('independent')\n",
    "plt.ylabel('dependent')\n",
    "plt.show()"
   ]
  },
  {
   "cell_type": "code",
   "execution_count": 7,
   "metadata": {},
   "outputs": [
    {
     "data": {
      "text/html": [
       "<div>\n",
       "<style scoped>\n",
       "    .dataframe tbody tr th:only-of-type {\n",
       "        vertical-align: middle;\n",
       "    }\n",
       "\n",
       "    .dataframe tbody tr th {\n",
       "        vertical-align: top;\n",
       "    }\n",
       "\n",
       "    .dataframe thead th {\n",
       "        text-align: right;\n",
       "    }\n",
       "</style>\n",
       "<table border=\"1\" class=\"dataframe\">\n",
       "  <thead>\n",
       "    <tr style=\"text-align: right;\">\n",
       "      <th></th>\n",
       "      <th>Year</th>\n",
       "      <th>Value</th>\n",
       "    </tr>\n",
       "  </thead>\n",
       "  <tbody>\n",
       "    <tr>\n",
       "      <th>0</th>\n",
       "      <td>1960</td>\n",
       "      <td>5.918412e+10</td>\n",
       "    </tr>\n",
       "    <tr>\n",
       "      <th>1</th>\n",
       "      <td>1961</td>\n",
       "      <td>4.955705e+10</td>\n",
       "    </tr>\n",
       "    <tr>\n",
       "      <th>2</th>\n",
       "      <td>1962</td>\n",
       "      <td>4.668518e+10</td>\n",
       "    </tr>\n",
       "    <tr>\n",
       "      <th>3</th>\n",
       "      <td>1963</td>\n",
       "      <td>5.009730e+10</td>\n",
       "    </tr>\n",
       "    <tr>\n",
       "      <th>4</th>\n",
       "      <td>1964</td>\n",
       "      <td>5.906225e+10</td>\n",
       "    </tr>\n",
       "    <tr>\n",
       "      <th>5</th>\n",
       "      <td>1965</td>\n",
       "      <td>6.970915e+10</td>\n",
       "    </tr>\n",
       "    <tr>\n",
       "      <th>6</th>\n",
       "      <td>1966</td>\n",
       "      <td>7.587943e+10</td>\n",
       "    </tr>\n",
       "    <tr>\n",
       "      <th>7</th>\n",
       "      <td>1967</td>\n",
       "      <td>7.205703e+10</td>\n",
       "    </tr>\n",
       "    <tr>\n",
       "      <th>8</th>\n",
       "      <td>1968</td>\n",
       "      <td>6.999350e+10</td>\n",
       "    </tr>\n",
       "    <tr>\n",
       "      <th>9</th>\n",
       "      <td>1969</td>\n",
       "      <td>7.871882e+10</td>\n",
       "    </tr>\n",
       "  </tbody>\n",
       "</table>\n",
       "</div>"
      ],
      "text/plain": [
       "   Year         Value\n",
       "0  1960  5.918412e+10\n",
       "1  1961  4.955705e+10\n",
       "2  1962  4.668518e+10\n",
       "3  1963  5.009730e+10\n",
       "4  1964  5.906225e+10\n",
       "5  1965  6.970915e+10\n",
       "6  1966  7.587943e+10\n",
       "7  1967  7.205703e+10\n",
       "8  1968  6.999350e+10\n",
       "9  1969  7.871882e+10"
      ]
     },
     "execution_count": 7,
     "metadata": {},
     "output_type": "execute_result"
    }
   ],
   "source": [
    "# Lets continue our dataframe\n",
    "df.head(10)"
   ]
  },
  {
   "cell_type": "code",
   "execution_count": 8,
   "metadata": {},
   "outputs": [
    {
     "data": {
      "text/plain": [
       "(55, 2)"
      ]
     },
     "execution_count": 8,
     "metadata": {},
     "output_type": "execute_result"
    }
   ],
   "source": [
    "df.shape"
   ]
  },
  {
   "cell_type": "code",
   "execution_count": 9,
   "metadata": {},
   "outputs": [
    {
     "data": {
      "text/plain": [
       "(array([1960, 1961, 1962, 1963, 1964, 1965, 1966, 1967, 1968, 1969, 1970,\n",
       "        1971, 1972, 1973, 1974, 1975, 1976, 1977, 1978, 1979, 1980, 1981,\n",
       "        1982, 1983, 1984, 1985, 1986, 1987, 1988, 1989, 1990, 1991, 1992,\n",
       "        1993, 1994, 1995, 1996, 1997, 1998, 1999, 2000, 2001, 2002, 2003,\n",
       "        2004, 2005, 2006, 2007, 2008, 2009, 2010, 2011, 2012, 2013, 2014],\n",
       "       dtype=int64),\n",
       " array([5.91841165e+10, 4.95570502e+10, 4.66851785e+10, 5.00973033e+10,\n",
       "        5.90622549e+10, 6.97091531e+10, 7.58794348e+10, 7.20570286e+10,\n",
       "        6.99934979e+10, 7.87188205e+10, 9.15062113e+10, 9.85620238e+10,\n",
       "        1.12159814e+11, 1.36769878e+11, 1.42254742e+11, 1.61162492e+11,\n",
       "        1.51627687e+11, 1.72349014e+11, 1.48382112e+11, 1.76856525e+11,\n",
       "        1.89649992e+11, 1.94369049e+11, 2.03549627e+11, 2.28950201e+11,\n",
       "        2.58082147e+11, 3.07479586e+11, 2.98805793e+11, 2.71349773e+11,\n",
       "        3.10722214e+11, 3.45957486e+11, 3.58973230e+11, 3.81454704e+11,\n",
       "        4.24934066e+11, 4.42874596e+11, 5.62261130e+11, 7.32032045e+11,\n",
       "        8.60844098e+11, 9.58159425e+11, 1.02527690e+12, 1.08944711e+12,\n",
       "        1.20526068e+12, 1.33223472e+12, 1.46190649e+12, 1.64992872e+12,\n",
       "        1.94174560e+12, 2.26859890e+12, 2.72978403e+12, 3.52309431e+12,\n",
       "        4.55843107e+12, 5.05941974e+12, 6.03965851e+12, 7.49243210e+12,\n",
       "        8.46162316e+12, 9.49060260e+12, 1.03548317e+13]))"
      ]
     },
     "execution_count": 9,
     "metadata": {},
     "output_type": "execute_result"
    }
   ],
   "source": [
    "x_train,y_train=df['Year'].values,df['Value'].values\n",
    "x_train,y_train"
   ]
  },
  {
   "cell_type": "code",
   "execution_count": 17,
   "metadata": {},
   "outputs": [
    {
     "data": {
      "image/png": "[encoded data removed]",
      "text/plain": [
       "<Figure size 576x360 with 1 Axes>"
      ]
     },
     "metadata": {},
     "output_type": "display_data"
    }
   ],
   "source": [
    "#analsing x_train vs y_train\n",
    "plt.figure(figsize=(8,5))\n",
    "plt.scatter(x_train,y_train,color='blue')\n",
    "plt.xlabel('Year')\n",
    "plt.ylabel('GDP Value')\n",
    "plt.show()"
   ]
  },
  {
   "cell_type": "code",
   "execution_count": 28,
   "metadata": {},
   "outputs": [
    {
     "data": {
      "image/png": "[encoded data removed]",
      "text/plain": [
       "<Figure size 432x288 with 1 Axes>"
      ]
     },
     "metadata": {},
     "output_type": "display_data"
    }
   ],
   "source": [
    "#lets make an Row sigmoid graph\n",
    "x=np.arange(-8.0,8.0,.1)\n",
    "y=1.0 / (1.0 + ( 1+np.exp(-x)))\n",
    "plt.plot(x,y)\n",
    "plt.xlabel('Independent')\n",
    "plt.ylabel('Dependent')\n",
    "plt.show()\n",
    "\n"
   ]
  },
  {
   "cell_type": "code",
   "execution_count": 18,
   "metadata": {},
   "outputs": [],
   "source": [
    "#According to the graph , it is Sigmoid function..\n",
    "# S0 we will apply signoid ...\n",
    "#according to sigmoid function...beta_1 and beta_2 which is one is curve stipenss and  and slide on x_axis"
   ]
  },
  {
   "cell_type": "code",
   "execution_count": 29,
   "metadata": {},
   "outputs": [],
   "source": [
    "def sigmoid(x,beta_1,beta_2):\n",
    "    y=1/(1+np.exp(-beta_1*(x-beta_2)))\n",
    "    return y\n"
   ]
  },
  {
   "cell_type": "code",
   "execution_count": 31,
   "metadata": {},
   "outputs": [
    {
     "name": "stdout",
     "output_type": "stream",
     "text": [
      "beta_1 = 690.451710 ,beta_2= 0.997207\n"
     ]
    }
   ],
   "source": [
    "#We have to find Beta_1 and beta_2\n",
    "#So we will use Curve_fit Scipy function\n",
    "#lets_play\n",
    "#fitst we have to make normalisation because vlaues are in large range\n",
    "#so \n",
    "x_train_norm=x_train/max(x_train)\n",
    "y_train_norm=y_train/max(y_train)\n",
    "\n",
    "from scipy.optimize import curve_fit\n",
    "#this will give us two values\n",
    "p_opt,p_cov=curve_fit(sigmoid,x_train_norm,y_train_norm)\n",
    "print('beta_1 = %f ,beta_2= %f' % (p_opt[0],p_opt[1]))\n"
   ]
  },
  {
   "cell_type": "code",
   "execution_count": 54,
   "metadata": {},
   "outputs": [
    {
     "data": {
      "text/plain": [
       "[<matplotlib.lines.Line2D at 0x7c992b0>]"
      ]
     },
     "execution_count": 54,
     "metadata": {},
     "output_type": "execute_result"
    },
    {
     "data": {
      "image/png": "[encoded data removed]",
      "text/plain": [
       "<Figure size 576x360 with 1 Axes>"
      ]
     },
     "metadata": {},
     "output_type": "display_data"
    }
   ],
   "source": [
    "#Now we can plot our data\n",
    "plt.figure(figsize=(8,5))\n",
    "y_pred=sigmoid(x_train_norm,p_opt[0],p_opt[1])\n",
    "\n",
    "plt.plot(x_train_norm,y_pred)\n"
   ]
  },
  {
   "cell_type": "code",
   "execution_count": 55,
   "metadata": {},
   "outputs": [
    {
     "data": {
      "text/plain": [
       "[<matplotlib.lines.Line2D at 0xe100830>]"
      ]
     },
     "execution_count": 55,
     "metadata": {},
     "output_type": "execute_result"
    },
    {
     "data": {
      "image/png": "[encoded data removed]",
      "text/plain": [
       "<Figure size 432x288 with 1 Axes>"
      ]
     },
     "metadata": {},
     "output_type": "display_data"
    }
   ],
   "source": [
    "#our Actual normalize Curve\n",
    "plt.plot(x_train_norm,y_train_norm)"
   ]
  },
  {
   "cell_type": "code",
   "execution_count": null,
   "metadata": {},
   "outputs": [],
   "source": [
    "#We can see both graph must be in narm form so that both can fit with togheter"
   ]
  },
  {
   "cell_type": "code",
   "execution_count": 56,
   "metadata": {},
   "outputs": [
    {
     "data": {
      "text/plain": [
       "[<matplotlib.lines.Line2D at 0x79629b0>]"
      ]
     },
     "execution_count": 56,
     "metadata": {},
     "output_type": "execute_result"
    },
    {
     "data": {
      "image/png": "[encoded data removed]",
      "text/plain": [
       "<Figure size 432x288 with 1 Axes>"
      ]
     },
     "metadata": {},
     "output_type": "display_data"
    }
   ],
   "source": [
    "#SO lets do together...\n",
    "y_pred=sigmoid(x_train_norm,p_opt[0],p_opt[1])\n",
    "plt.plot(x_train_norm,y_pred)   # Predicted\n",
    "plt.plot(x_train_norm,y_train_norm,'ro')  #Actual\n"
   ]
  },
  {
   "cell_type": "code",
   "execution_count": 57,
   "metadata": {},
   "outputs": [
    {
     "data": {
      "text/plain": [
       "[<matplotlib.lines.Line2D at 0xe31d9b0>]"
      ]
     },
     "execution_count": 57,
     "metadata": {},
     "output_type": "execute_result"
    },
    {
     "data": {
      "image/png": "[encoded data removed]",
      "text/plain": [
       "<Figure size 1080x576 with 1 Axes>"
      ]
     },
     "metadata": {},
     "output_type": "display_data"
    }
   ],
   "source": [
    "#Increse the size using \n",
    "plt.figure(figsize=(15,8))\n",
    "y_pred=sigmoid(x_train_norm,p_opt[0],p_opt[1])\n",
    "plt.plot(x_train_norm,y_pred)   # Predicted\n",
    "plt.plot(x_train_norm,y_train_norm,'ro')  #Actual\n",
    "\n"
   ]
  },
  {
   "cell_type": "code",
   "execution_count": 71,
   "metadata": {},
   "outputs": [],
   "source": [
    "#Spliting data into training and testing\n",
    "split=np.random.rand(len(df))<0.8\n",
    "x_train,x_test,y_train,y_test=x_train_norm[split],x_train_norm[~split],y_train_norm[split],y_train_norm[~split]"
   ]
  },
  {
   "cell_type": "code",
   "execution_count": 76,
   "metadata": {},
   "outputs": [],
   "source": [
    "#Now we will count accuracy \n",
    "y_new_pred=sigmoid(x_test,*p_opt)\n"
   ]
  },
  {
   "cell_type": "code",
   "execution_count": 78,
   "metadata": {},
   "outputs": [
    {
     "name": "stdout",
     "output_type": "stream",
     "text": [
      "mean abso error : 0.04\n"
     ]
    }
   ],
   "source": [
    "#finding the mean absolute error\n",
    "print('mean abso error : %.2f' % np.mean(np.absolute(y_new_pred-y_test)))\n"
   ]
  },
  {
   "cell_type": "code",
   "execution_count": 80,
   "metadata": {},
   "outputs": [
    {
     "name": "stdout",
     "output_type": "stream",
     "text": [
      "resudual sum of Square : 0.00\n"
     ]
    }
   ],
   "source": [
    "print('resudual sum of Square : %.2f' % np.mean((y_new_pred-y_test)**2))"
   ]
  },
  {
   "cell_type": "code",
   "execution_count": 82,
   "metadata": {},
   "outputs": [
    {
     "name": "stdout",
     "output_type": "stream",
     "text": [
      "R squared : 0.96\n"
     ]
    }
   ],
   "source": [
    "from sklearn.metrics import r2_score\n",
    "print('R squared : %.2f' % r2_score(y_new_pred,y_test))"
   ]
  },
  {
   "cell_type": "code",
   "execution_count": null,
   "metadata": {},
   "outputs": [],
   "source": [
    "#!! Wow R2 is 96 percent "
   ]
  }
 ],
 "metadata": {
  "kernelspec": {
   "display_name": "Python 3",
   "language": "python",
   "name": "python3"
  },
  "language_info": {
   "codemirror_mode": {
    "name": "ipython",
    "version": 3
   },
   "file_extension": ".py",
   "mimetype": "text/x-python",
   "name": "python",
   "nbconvert_exporter": "python",
   "pygments_lexer": "ipython3",
   "version": "3.6.5"
  }
 },
 "nbformat": 4,
 "nbformat_minor": 2
}
